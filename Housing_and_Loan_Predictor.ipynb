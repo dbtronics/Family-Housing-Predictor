{
  "nbformat": 4,
  "nbformat_minor": 0,
  "metadata": {
    "colab": {
      "name": "Housing and Loan Predictor.ipynb",
      "provenance": [],
      "collapsed_sections": [
        "aWaJuEsWqq_N",
        "yd6YnFpJquoo",
        "EFLYmV_q3RGE"
      ],
      "authorship_tag": "ABX9TyPcE6kbhby+VHHjzdDwLKAw",
      "include_colab_link": true
    },
    "kernelspec": {
      "name": "python3",
      "display_name": "Python 3"
    },
    "language_info": {
      "name": "python"
    }
  },
  "cells": [
    {
      "cell_type": "markdown",
      "metadata": {
        "id": "view-in-github",
        "colab_type": "text"
      },
      "source": [
        "<a href=\"https://colab.research.google.com/github/dbtronics/Family-Housing-Predictor/blob/main/Housing_and_Loan_Predictor.ipynb\" target=\"_parent\"><img src=\"https://colab.research.google.com/assets/colab-badge.svg\" alt=\"Open In Colab\"/></a>"
      ]
    },
    {
      "cell_type": "code",
      "source": [
        "import numpy as np\n",
        "import pandas as pd\n",
        "import matplotlib.pyplot as plt\n",
        "import itertools\n",
        "from array import array\n",
        "import math\n",
        "# import sklearn.neural_network.MLPClassifier as mlp\n",
        "# from sklearn import neural_network.MLPClassifier as mlp\n",
        "import sklearn.neural_network as mlp"
      ],
      "metadata": {
        "id": "c63hVxF7-Y1K"
      },
      "execution_count": 1,
      "outputs": []
    },
    {
      "cell_type": "markdown",
      "source": [
        "# Data Collection"
      ],
      "metadata": {
        "id": "Eg334VxB3CYL"
      }
    },
    {
      "cell_type": "markdown",
      "source": [
        "## Loan Prediction"
      ],
      "metadata": {
        "id": "aWaJuEsWqq_N"
      }
    },
    {
      "cell_type": "code",
      "execution_count": 2,
      "metadata": {
        "id": "0Df6ANe3qelz",
        "colab": {
          "base_uri": "https://localhost:8080/",
          "height": 1000
        },
        "outputId": "bd76d075-b3f0-47ae-b8d1-de4a6bf11846"
      },
      "outputs": [
        {
          "output_type": "stream",
          "name": "stdout",
          "text": [
            "Train Data for Loan Amount:\n",
            "Frequency: 614\n",
            "Max: 700.0\n",
            "Min: 9.0\n",
            "Mean: 146.41216216216216\n",
            "Std: 85.51500809120331\n",
            "\n",
            "23 data are <= $50k\n",
            "154 data are <= $100k\n",
            "392 data are <= $150k\n",
            "512 data are <= $200k\n",
            "540 data are <= $250k\n",
            "563 data are <= $300k\n",
            "573 data are <= $350k\n",
            "578 data are <= $400k\n",
            "580 data are <= $450k\n",
            "587 data are <= $500k\n",
            "587 data are <= $550k\n",
            "590 data are <= $600k\n",
            "591 data are <= $650k\n",
            "592 data are <= $700k\n"
          ]
        },
        {
          "output_type": "display_data",
          "data": {
            "text/plain": [
              "<Figure size 432x288 with 1 Axes>"
            ],
            "image/png": "[encoded data removed]"
          },
          "metadata": {
            "needs_background": "light"
          }
        },
        {
          "output_type": "stream",
          "name": "stdout",
          "text": [
            "\n",
            "Test Data for Loan Amount:\n",
            "Frequency: 367\n",
            "Max: 550.0\n",
            "Min: 28.0\n",
            "Mean: 136.13259668508286\n",
            "Std: 61.28183320611851\n",
            "\n",
            "12 data are <= $50k\n",
            "91 data are <= $100k\n",
            "262 data are <= $150k\n",
            "332 data are <= $200k\n",
            "344 data are <= $250k\n",
            "356 data are <= $300k\n",
            "357 data are <= $350k\n",
            "359 data are <= $400k\n",
            "360 data are <= $450k\n",
            "361 data are <= $500k\n",
            "362 data are <= $550k\n",
            "362 data are <= $600k\n",
            "362 data are <= $650k\n",
            "362 data are <= $700k\n"
          ]
        },
        {
          "output_type": "display_data",
          "data": {
            "text/plain": [
              "<Figure size 432x288 with 1 Axes>"
            ],
            "image/png": "[encoded data removed]"
          },
          "metadata": {
            "needs_background": "light"
          }
        }
      ],
      "source": [
        "test_loan_path = \"/content/test_loan_predictor.csv\"\n",
        "train_loan_path = \"/content/train_loan_predictor.csv\"\n",
        "pd_raw_test_loan_prediction = pd.read_csv(test_loan_path)\n",
        "pd_raw_train_loan_prediction = pd.read_csv(train_loan_path)\n",
        "pd_raw_loan_prediction = {\n",
        "    \"test\": pd_raw_test_loan_prediction,\n",
        "    \"train\": pd_raw_train_loan_prediction\n",
        "}\n",
        "# # print(\"Test Data:\")\n",
        "# # pd_house_price[\"test\"].head(5)\n",
        "# print(\"\\nTrain Data:\")\n",
        "# pd_raw_loan_prediction[\"train\"].head(5)\n",
        "# print(np.sum(pd_raw_loan_prediction[\"train\"].loc[:, \"Loan_Status\"]==\"Y\"))\n",
        "# print(np.sum(pd_raw_loan_prediction[\"train\"].loc[:, \"Loan_Status\"]==\"N\"))\n",
        "\n",
        "train_loan = pd_raw_loan_prediction[\"train\"].loc[:, \"LoanAmount\"]\n",
        "print(\"Train Data for Loan Amount:\")\n",
        "print(\"Frequency: \" + str(len(train_loan)))\n",
        "print(\"Max: \" + str(np.max(train_loan)))\n",
        "print(\"Min: \" + str(np.min(train_loan)))\n",
        "print(\"Mean: \" + str(np.mean(train_loan)))\n",
        "print(\"Std: \" + str(np.std(train_loan)))\n",
        "\n",
        "print(\"\")\n",
        "loan_range_list = np.array(range(50, 701, 50))\n",
        "\n",
        "loan_range_freq = []\n",
        "for i in range(loan_range_list.shape[0]):\n",
        "  loan_range_freq.append(np.sum(train_loan<=loan_range_list[i]))\n",
        "  print(\"%d data are <= $%dk\"%(loan_range_freq[i], loan_range_list[i]))\n",
        "\n",
        "plt.plot(loan_range_list, loan_range_freq)\n",
        "plt.title(\"Cumulative Loan Amount for Train Data\")\n",
        "plt.xlabel(\"Loan Range / $ '000\")\n",
        "plt.ylabel(\"Frequency\")\n",
        "plt.show()\n",
        "\n",
        "test_loan = pd_raw_loan_prediction[\"test\"].loc[:, \"LoanAmount\"]\n",
        "print(\"\\nTest Data for Loan Amount:\")\n",
        "print(\"Frequency: \" + str(len(test_loan)))\n",
        "print(\"Max: \" + str(np.max(test_loan)))\n",
        "print(\"Min: \" + str(np.min(test_loan)))\n",
        "print(\"Mean: \" + str(np.mean(test_loan)))\n",
        "print(\"Std: \" + str(np.std(test_loan)))\n",
        "\n",
        "print(\"\")\n",
        "loan_range_freq = []\n",
        "for i in range(loan_range_list.shape[0]):\n",
        "  loan_range_freq.append(np.sum(test_loan<=loan_range_list[i]))\n",
        "  print(\"%d data are <= $%dk\"%(loan_range_freq[i], loan_range_list[i]))\n",
        "\n",
        "plt.plot(loan_range_list, loan_range_freq)\n",
        "plt.title(\"Cumulative Loan Amount for Test Data\")\n",
        "plt.xlabel(\"Loan Range / $ '000\")\n",
        "plt.ylabel(\"Frequency\")\n",
        "plt.show()"
      ]
    },
    {
      "cell_type": "markdown",
      "source": [
        "## House Price Prediction"
      ],
      "metadata": {
        "id": "yd6YnFpJquoo"
      }
    },
    {
      "cell_type": "code",
      "source": [
        "house_path = \"/content/ontario_data.csv\"\n",
        "pd_raw_house_price = pd.read_csv(house_path)\n",
        "# print(\"Data\")\n",
        "pd_raw_house_price\n",
        "\n",
        "# Analyzing our price labels\n",
        "price = pd_raw_house_price.loc[:,\"Price ($)\"]\n",
        "print(\"Information on Price Label\")\n",
        "print(\"Frequency: \" + str(len(price)))\n",
        "print(\"Max: \" + str(np.max(price)))\n",
        "print(\"Min: \" + str(np.min(price)))\n",
        "print(\"Mean: \" + str(np.mean(price)))\n",
        "print(\"Std: \" + str(np.std(price)))\n",
        "print(\"Unique values: \" + str(len(np.unique(price))))\n",
        "\n",
        "print(\"\\n\")\n",
        "print(\"Range of values\")\n",
        "price_range_list = [0, 10e3, 50e3, 100e3, 200e3, \n",
        "                    300e3, 400e3, 500e3, 600e3, \n",
        "                    700e3, 800e3, 900e3, 1e6, \n",
        "                    2e6, 3e6, 4e6, 5e6, 10e6, \n",
        "                    20e6, 30e6, 40e6]\n",
        "price_range_freq = []\n",
        "for value in price_range_list:\n",
        "  freq = np.sum(price<=value)\n",
        "  price_range_freq.append(freq)\n",
        "  # print(\"%d data are <= %d \"%(freq, value))\n",
        "  print(\"{:0,d} data are <= ${:0,.0f}\".format(freq, value))\n",
        "\n",
        "plt.plot(range(len(price_range_list)), price_range_freq)\n",
        "plt.title(\"Cumulative House Price Ranges\")\n",
        "plt.xlabel(\"Price Range / $\")\n",
        "plt.ylabel(\"Frequency\")\n",
        "plt.show()\n",
        "\n",
        "AreaNameList = []\n",
        "for area in pd_raw_house_price.loc[:, 'AreaName']:\n",
        "  # print(area)\n",
        "  if area not in AreaNameList:\n",
        "    AreaNameList.append(area)\n",
        "print(AreaNameList)\n",
        "print(len(AreaNameList))"
      ],
      "metadata": {
        "id": "r6ZAste3qxt4",
        "colab": {
          "base_uri": "https://localhost:8080/",
          "height": 857
        },
        "outputId": "de03221c-dc8b-47c6-ff12-fb72f5c61736"
      },
      "execution_count": 3,
      "outputs": [
        {
          "output_type": "stream",
          "name": "stdout",
          "text": [
            "Information on Price Label\n",
            "Frequency: 25351\n",
            "Max: 32500000\n",
            "Min: 0\n",
            "Mean: 564543.76513747\n",
            "Std: 847579.4499583126\n",
            "Unique values: 3792\n",
            "\n",
            "\n",
            "Range of values\n",
            "156 data are <= $0\n",
            "925 data are <= $10,000\n",
            "1,544 data are <= $50,000\n",
            "2,678 data are <= $100,000\n",
            "5,794 data are <= $200,000\n",
            "9,879 data are <= $300,000\n",
            "13,975 data are <= $400,000\n",
            "16,882 data are <= $500,000\n",
            "18,908 data are <= $600,000\n",
            "20,398 data are <= $700,000\n",
            "21,473 data are <= $800,000\n",
            "22,201 data are <= $900,000\n",
            "22,736 data are <= $1,000,000\n",
            "24,493 data are <= $2,000,000\n",
            "24,965 data are <= $3,000,000\n",
            "25,147 data are <= $4,000,000\n",
            "25,227 data are <= $5,000,000\n",
            "25,330 data are <= $10,000,000\n",
            "25,348 data are <= $20,000,000\n",
            "25,350 data are <= $30,000,000\n",
            "25,351 data are <= $40,000,000\n"
          ]
        },
        {
          "output_type": "display_data",
          "data": {
            "text/plain": [
              "<Figure size 432x288 with 1 Axes>"
            ],
            "image/png": "[encoded data removed]"
          },
          "metadata": {
            "needs_background": "light"
          }
        },
        {
          "output_type": "stream",
          "name": "stdout",
          "text": [
            "['Richview', 'Chedoke Park B', 'Ainslie Wood East', 'Greenford', 'Downtown', 'Old East York', 'Fairbank', 'Central Hamilton', 'Gourley', 'Red Hill', 'Clearview', 'Wallace Emerson', 'Parkdale', 'Midtown Toronto', 'Dorset Park', 'Hillcrest Village', 'Morningside', 'St. Andrew - Windfields', 'Bayview Woods - Steeles', 'Agincourt', 'St. Clair West Village', 'Ionview', 'Kennedy Park', 'Rexdale', \"Tam O'Shanter\", 'Woburn', 'Humber Heights - Westmount', \"Tam O'Shanter - Sullivan\", 'Malvern', 'Don Valley Village', 'Milliken', 'Wilson Heights', 'Willowdale', 'Wexford - Maryvale', 'Hamilton', 'Burkholme', 'Delta East', 'North End East', 'Landsdale', 'East Hamilton', 'Riverdale East', 'McQuesten West', 'Homeside', 'Glen Abbey', 'Oakville', 'Kerr Village', 'West Oak Trails', 'Uptown Core', 'Mimico', 'Newtonbrook', 'Princess Margaret', 'Nortown', 'Flemingdon Park', 'The Beach', 'Niagara', 'Bridlewood', 'Liberty Village', 'Bayview Village', 'Bendale', 'Birch Cliff', 'Swansea', 'Henry Farm', 'Humberlea', 'York Mills', 'Scarborough Junction', 'Lansing', 'Islington - City Centre West', 'Toronto', 'West Hill', 'Leaside', 'Long Branch', 'Downsview', 'Carleton Village', 'Islington', 'Leslieville', 'Old Town', 'Riverdale', 'Steeles', 'The Queensway', 'Weston', 'Rouge', 'White Haven', 'Lawrence Heights', 'Casa Loma', 'Bridgeport East', 'Doon South', 'Forest Heights', 'Grand River South', 'Victoria Hills', 'Onward Willow', 'Hanlon Creek', 'Guelph', 'Exhibition Park', 'Waverley', 'Grange Hill East', 'Old University', 'Old City', 'Two Rivers', 'West Willow Woods', 'Kortright Hills', nan, 'Burlington', 'Aldershot', 'Palermo West', 'Castle Green', 'West Oakville', 'Bronte', 'Westmount', 'King West Village', 'East Danforth', 'North Toronto', 'Entertainment District', 'Dufferin Grove', 'Woodbine - Lumsden', 'Trinity - Bellwoods', 'Eglinton East', 'Davisville', 'Lambton Baby Point', 'Lambton', 'Pleasant View', 'Humber Summit', 'Kingsview Village', 'Briar Hill - Belgravia', 'Eringate - Centennial - West Deane', 'Emery', 'Jane and Finch', \"L'Amoreaux\", 'Brookhaven - Amesbury', 'Woodbine Gardens', 'Victoria Village', 'Port Union', 'Eatonville', 'Silverthorn', 'Armdale', 'Port Hope', 'York University Heights', 'Cliffcrest', 'Little Portugal', 'Orléans', 'Ottawa', 'Kanata', 'Alta Vista', 'Borden Farm - Stewart Farm - Parkwood Hills - Fisher Glen', 'Hunt Club East - Western Community', 'Byward Market', 'Civic Hospital - Experimental Farm - Central Park', 'Byward Market - Parliament Hill', 'Centretown', 'Carlingwood West - Glabar Park - McKellar Heights', 'Munster Hamlet - Richmond', 'Greenbelt', 'Beacon Hill North', 'New Barrhaven', 'Stittsville', 'Blackburn Hamlet', 'Navan', 'Osgoode', 'Carp', 'Cornwall', 'Riverside', 'South Cameron', 'South Central', 'Remington Park', 'University', 'Roseland', 'Sandwich', 'Walkerville', 'East Windsor', 'Oakridge', 'Stoneybrook', 'Hamilton Road', 'Hyde Park', 'Argyle', 'Central London', 'Parry Sound', 'Masonville', 'Niagara Falls', 'Waterloo', 'Beechwood', 'Laurelwood', 'Laurentian Hills', 'Cedar Hill', 'Laurentian West', 'Meinzinger State Park', 'Idlewood', 'Mill Courtland Woodside Park', 'Country Hills West', 'Trussler', 'Centreville Chicopee', 'Vanier', 'Highland West', 'Pioneer Park', 'King East', 'Grand River North', 'Rosemount', 'Gurnett', 'Raleigh', 'Barnstown', 'Bruleville', 'Randall', 'Sherwood', 'Inch Park', 'Durand', 'Crown Point West', 'Centremount', 'Chappel East', 'Industrial Sector A and Keith', 'Bailieboro', 'Elmvale - Eastway - Riverview - Riverview Park West', 'Windsor', 'Jackson', 'White Oaks', 'Earlscourt', 'Little Italy', 'High Park North', 'Upper Beaches', 'Maple Leaf', 'Highland Creek', 'Mount Dennis', 'Wexford', 'Scarborough Village', 'Rockcliffe - Smythe', 'Markland Wood', 'Mount Pleasant West', 'The Kingsway', 'Etobicoke West Mall', 'Clairlea - Birchmount', 'Humber Bay Shores', 'Englemount - Lawrence', 'Old Ottawa East', 'Crestview - Meadowlands', 'Westboro Beach', 'New Edinburgh', 'Crystal Bay - Lakeview Park - Britannia Village', 'Greenboro East', 'Carlingwood - McKellar Park - Laurentien View', 'Barrhaven West - Old Barrhaven', 'Centrepointe', 'Island Park', 'Sandy Hill', 'Old Ottawa South', 'Westboro', 'Bells Corners East', 'Lindenlea - New Edinburgh', 'Ledbury - Heron Gate - Ridgemont - Elmwood', 'Rockcliffe - Manor Park', 'Braemar Park - Bel Air Heights - Copeland Park', 'Overbrook', 'Carleton Heights - Rideauview', 'Carson Grove - Carson Meadows', 'Hunt Club', 'Qualicum - Redwood Park', 'Woodroffe - Lincoln Heights', 'Emerald Woods - Sawmill Creek', 'Tanglewood', 'Blossom Park - Blossom Park West - Sawmill Creek/ Timbermill', 'Mississauga', 'Erin Mills', 'Malton', 'Dixie', 'Meadowvale Village', 'Cooksville', 'Clarkson', 'Lakeview', 'Harwood', 'River Bend', 'East London', 'South London', 'Streetsville', 'Taunton', 'Richmond Hill', 'Maple', 'Bayview Glen', 'Bathurst Manor', 'Glen Cairn', 'Gibson', 'East Credit', 'Peterborough', 'South Windsor', 'Eastdale', 'Beacon Hill South - Cardinal Heights', 'Manotick', 'Dunrobin', 'Pineview', 'Navan - Vars', 'Rockland', 'Arnprior', 'East Riverside', 'Talbot', 'Westminster', 'Uplands', 'Auditorium', 'Mount Hope Huron Park', 'Kitchener', 'Kirkendall North', 'Stoney Creek', 'Northglen', 'Samac', 'Country Hills', 'Rockway', 'Ancaster', \"O'Neill\", 'Cherry Hill', 'Thorold', 'Bowmanville', 'Bolton', 'Listowel', 'Casselman', 'Ayr', 'Walkerton', 'Stipley', 'Chatsworth', 'Markdale', 'Kenora', 'Holland Centre', 'Sudbury', 'Napanee', 'Rockwood Village', 'Alliston', 'Gravenhurst', 'Calabogie', 'Hawkesbury', 'Port Elgin', 'Saugeen Shores', 'Ajax', 'Woodvale - Craig Henry - Manordale - Estates of Arlington Wo', 'Greely', 'Cataraqui Westbrook', 'Kingston', 'Cataraqui North', 'Saint Andrews West', 'Belleville', 'Devonshire Heights', 'Fontainbleu', 'Walker Gates', 'Forest Glade', 'LaSalle', 'Tecumseh', 'London', 'Carling', 'North London', 'Medway', 'Fanshawe', 'Huron Heights', 'Lambeth', 'West London', 'Fox Hollow', 'Highland', 'Byron', 'West Street / River Street', 'Sunningdale', 'Guildwood', 'Junction Triangle', 'Danforth Village', 'The Elms', 'Six Points', 'Clairlea', 'Humber Bay', 'Silverstone', 'Pelmo Park', 'Alderwood', 'Roncesvalles Village', 'The Westway', 'Glen Park', 'Bedford Park', 'Sherwood Park', 'Oakwood Village', 'Armour Heights', 'Sunnyside', 'Lawrence Park South', 'Chestnut Hills', 'Thorncliffe Park', 'Davenport', 'Yonge and Lawrence', 'East Bayfront', 'Church and Wellesley', 'Petrolia', 'Don Mills', 'South Cedarbrae', 'McGregor Park', 'Thorncrest Village', 'Brookhaven', 'New Toronto', 'Bridle Path', 'Golden Mile', 'Princess - Rosethorn', 'Sunnylea', 'Lytton Park', 'Cliffside', 'Rustic', 'Mount Pleasant East', 'Parkwoods - Donalda', 'Wynford-Concorde', 'Pape Village', 'Bloor West Village', 'Beach Hill', 'Regal Heights', 'Brampton', 'Ben Jungle', 'Windfields', \"O'Connor - Parkview\", 'Mineola', 'Columbus', 'The Glebe', 'Playter Estates', 'Carlington', 'Whitehaven - Queensway Terrace North', 'South Keys - Heron Gate - Greenboro West', 'Cummings', 'Huron Park', 'Riverside Park', 'Huntington', 'Bartonville', 'Centennial', 'South Walkerville', 'Haley Station', 'Ridgetown', 'Port Dover', 'Powassan', 'Markham', 'Greensborough', 'Berczy Village', 'Cobden', 'Merritton', 'Palmerston', 'Vaughan', 'Bostwick', 'Brighton', 'Blenheim', 'Lucknow', 'Paisley', 'Chapman Mills - Rideau Crest - Davidson Heights', 'Sheahan Estates - Trend Village - Arlington Woods', 'Halton Hills', 'Alfred', 'Cargill', 'Clifford', 'Beaverton', 'Whitby', 'Port Sydney', 'Huntsville', 'Chalk River', 'Sault Ste. Marie', 'Perth Road', 'Kirkland Lake', 'Perth', 'Petawawa', 'Meaford', 'Lone Pine', 'North Bay', 'Crystal Falls', 'Bluewater', 'Amherstburg', 'Christopher-Champlain', \"Lion's Head\", 'Miller Lake', 'Deep River', 'Durham', 'Temiskaming Shores', 'Camden Township', 'Dresden', 'Schumacher', 'Unionville', 'Westmeath', 'Beachburg', 'Rodney', 'Mitchell', 'Trout Creek', 'Gogama', 'Elora', 'Sharbot Lake', 'Midland', 'Woodbridge', 'Winchester', 'Gooderham', 'Ameliasburgh', 'Pembroke', 'Eagle Lake', 'Port Colborne', 'Bradford West Gwillimbury', 'Cookstown', 'Lansdowne', 'South River', 'Carleton Place', 'Courtland', 'Brantford', 'Mount Pleasant', 'Magnetawan', 'Espanola', 'Wallaceburg', 'Newmarket', 'Exeter', 'Eganville', 'Faraday', \"L'Amable\", 'Harcourt', 'Southampton', 'Chesley', 'Shelburne', 'Beechborough - Greenbrook', 'Cataraqui River East', 'Bayridge West', 'Orillia', 'Brock', 'Collingwood', 'Goderich', 'Bethany', 'Desbarats', 'Huron East', 'Pickering', 'Bracebridge', 'Novar', 'Thomasburg', 'Drummond', 'Waubaushene', \"Burk's Falls\", 'Elliot Lake', 'Dwight', 'Tweed', 'Kakabeka Falls', 'Tilbury East', 'Lighthouse Cove', 'Florida', 'Emsdale', 'Quinte West', 'Stirling', 'Annan', 'Owen Sound', 'Marlbank', 'Echo Bay', 'Kawartha Lakes', 'Prescott', 'Richards Landing', 'Sprucedale', 'Newburgh', 'Kingsville', 'Blind River', 'Brechin', 'Kimberley', 'Penetanguishene', 'Deseronto', 'Glendale', 'Niagara-on-the-Lake', 'Marysville', 'Roblin', 'Smiths Falls', 'Stouffville', 'Thornbury', 'Elzevir', 'Whitchurch-Stouffville', 'Fort Erie', 'Sydenham', 'Stevensville', 'Balderson', 'Bridgeburg', 'Newton', 'Brockville', 'Bruce Mines', 'Tory Hill', 'Uxbridge', 'Goodwood', 'Sandford', 'Timmins', 'Haliburton', 'Parkwood Gardens', 'Chesterville', 'Fraser', 'Delhi', 'South Porcupine', 'Windham Centre', 'Wallbridge', 'Sundridge', 'Ahmic Harbour', 'Stonehaven', 'Renfrew', 'Fonthill', 'Bath', 'Odessa', 'Thessalon', 'Norwich', 'Greenway-Chaplin', 'Cambridge', 'Fiddlesticks', 'Harrow', 'Madoc', 'Cochrane', 'Limoges', 'Acton', 'Lambton Shores', 'East Galt', 'Flesherton', 'Lindsay', 'Westport', 'Baden', 'Hillsburgh', 'Churchville', 'Crysler', 'Barrie', 'Bancroft', 'Grange Park', 'Briar Hill', 'Hunt Club Woods - Quintarra - Revelstoke - Riverside South P', 'Merivale Gardens - Grenfell Glen - Pineglen - Country Place', 'Crown Point East', 'Industrial Sector E and McAnulty', 'Ainslie Wood West', 'Corktown', 'Gores Landing', 'Pioneer Tower West', 'City Commercial Core', 'Falkirk East', 'Berrisfield', 'St. Clair', 'Albion Falls', 'Silvertown', 'Centretown West', 'Mechanicsville', 'Hawthorne Meadows - Sheffield Glen', 'Playfair Park - Lynda Park - Guildwood Estates', 'Sauble Beach', 'Manotick - North Gower', 'Bonnington', 'Ryckmans', 'Sheldon', 'Industrial Sector D', 'Stinson', 'Kennedy East', 'Eleanor', 'Hannon West', 'Lakely', 'Hamilton Beach B', 'Broughton East', 'Beasley', 'Kirkendall South', 'Westcliffe West', 'Westdale North', 'Mountview', 'Vincent', 'Normanhurst', 'Carpenter', 'Rosedale', 'Yeoville', 'Ainslie Wood', 'Butler', 'Cobourg', 'Baltimore', 'Kernighan', 'Guelph Junction', 'Brant', 'Erin', 'Puslinch', 'Clairfields', 'Fairfield', 'Heritage Park', 'York District', 'Lower Doon', 'Bridgeport North', 'Stanley Park', 'Country Hills East', 'Northward', 'Hidden Valley', 'Southdale', 'Bridgeport West', 'Brigadoon', 'Forest Hill', 'St. Marys Hospital', 'Civic Centre', 'Dundas', 'Mount Hope', 'KW Hospital', 'Pioneer Tower East', 'Flamborough', 'Central Frederick', 'Eastwood', 'Waterdown', 'West Flamborough', 'Carlisle', 'Alpine', 'West Montrose', 'Rolston', 'Winona', 'Ainslie Wood North', 'Quinndale', 'Crerar', 'Industrial Sector C', 'Sunninghill', 'Blakeley', 'Riverdale West', 'Hill Park', 'Parkview West', 'Allison', 'Southam', 'Fessenden', 'Falkirk West', 'Corman', 'Glenview East', 'Welland', 'Westcliffe East', 'Rymal', 'Longwoods', 'Glanworth', 'Brockley', 'City Centre', 'Westdale South', 'Sharon Creek', 'Rideau Heights', 'Auden Park', 'Glenview West', 'Kinburn', 'Metcalfe', 'Hunt Club - Ottawa Airport', 'Balsam Grove', 'Richmond', 'Chapel Hill South', 'Industrial Park', 'Prince Edward', 'Cumberland - Estates', 'Lower Town', 'Hillendale', 'Bayshore', 'Urbandale', 'Iris', 'Southcrest', 'Central Waterfront', 'Golden Triangle', 'Bells Corners West', 'Wellesley Island', 'Champlain Park', 'LeBreton Flats', 'Torwood Estates', 'Briar Green - Leslie Park', 'Sheffield Glen', 'Stittsville - Basswood', 'Carlsbad Springs', 'Sarsfield', 'Williamsville', 'Jamaica Plain', 'Duncannon', 'Rednersville', 'Van Buren Charter Township', 'Lakeshore', 'Bishop Hellmuth Heritage District', 'Minto', 'Tichborne', 'Elmwood', 'Holyrood', 'White River', 'Campbellcroft', 'Colborne', 'Little Current', 'Hanover', 'Wevertown', 'Cityview - Skyline - Fisher Heights', 'Greenock', 'West Guilford', 'Hawkestone', 'Macedonian Village', 'International Falls', 'Fort Frances', 'Baysville', 'Newcastle', 'Brooklin', 'Verner', 'Wingham', 'Milton', 'Thornhill', 'Greater Napanee', 'Manitouwadge', 'Cardinal', 'Alexandria', 'Allenford', 'Innisfil', 'Wilberforce', 'Hepworth', 'Johnstown', 'York', 'Manitowaning', 'Tottenham', 'Port Rowan', 'Portland', 'Sleeman', 'Millbrook', 'Camden East', 'Sunderland', 'Zephyr', 'Port McNicoll', 'Denbigh', 'Castleton', 'Trenton', 'Carnarvon', 'Minden', 'Royal Oak', 'Georgina', 'Southwood', 'Campbellford', 'Port Perry', 'Keene', 'Essex', 'Caledon', 'Stayner', 'Lively', 'Markstay', 'Angus', 'Picton', 'King City', 'New Dundee', 'Kincardine', 'Strathroy', 'Bala', 'Ingleside', 'Spanish', 'Warren', 'Shedden', 'Agassiz', 'Verona', 'Hespeler Village', 'Tunis', 'Midhurst', 'Elk Lake', 'Walker Farm', 'Otterville', 'Highgate', 'Emo', 'Nipigon', 'Walford', 'Kearney', 'Elmira', 'Willmott', 'Woodstock', 'Dashwood', 'Tiverton', 'McGregor', 'Preston Centre', 'Embrun', 'Taylor', 'Sarnia', 'Chelmsford', 'Paris', 'Kentley', 'Curve Lake', 'Keswick', 'Simcoe', 'Stratford', 'Zurich', 'Letitia Heights', 'Glencoe', 'Tavistock', 'Ingersoll', 'Fenelon Falls', 'Pinecrest', 'Cobalt', 'Leamington', 'Orangeville', 'Coldwater', 'Belle River', 'Donevan', 'Teeswater', 'New Liskeard', 'Lakefield', 'Saint-Albert', 'Port Credit', 'Caledonia', 'Massey', 'Point Edward', 'Lancaster', 'Gore Bay', 'Bainsville', 'Kemptville', 'Gananoque', 'Torrance', 'Morriston', 'Balfour', 'Trillium Industrial Park', 'Troy', 'Malden', 'Westvale', 'Delta West', 'Williamsburg', 'Bayridge East', 'Strathcona Park', 'Old Malton Village', 'Central Oshawa', 'The Danforth', 'Fashion District', 'The Beach Triangle', 'Edenbridge - Humber Valley', 'West Humber Estates', 'Chinatown', 'Woodhull', 'Southwood Lakes', 'Thunder Bay', 'Hamilton Beach A', 'Templemead', 'Bracondale Hill', 'Clarence-Rockland', 'Russell', 'Almonte', 'Castle Heights', 'Oro Station', 'Kingscourt', 'Calvin Park', 'Beverley', 'Alwington', 'Martintown', 'Yarker', 'CFB Kingston', 'Thurlow', 'Roslin', 'Dundalk', 'Sandwich South', 'Maidstone', 'Bryanston', 'Ilderton', 'Airport', 'Denfield', 'Tempo', 'Northbrook', 'Fenton', 'McLaughlin', 'Stevenson', 'Rural Oshawa', 'Northwood', 'Hickson', 'Oshawa', 'Fraserville', 'Farewell', 'Belgravia', 'Cavan', 'Thorah Island', 'Woodbine Heights', 'Amesbury', 'Lisgar', 'The Junction', 'Black Creek', 'Port Royal', 'Runnymede', 'Broadview North', 'Quyon', 'Jerome', 'Lawfield', 'Cricket Club', 'North Kingstown', 'Confederation Park A', 'Macassa', 'Arva', 'Ojibway', 'Crumlin', 'West Queen West', 'Brockton Village', 'Palmerston - Little Italy', 'Eglinton West', 'Broughton West', 'Greenwood - Coxwell', 'Harbord Village', 'North End West', 'Buchanan', 'Trenholme', 'Gilkson', 'Sheffield', 'Parkview East', 'Victoria Park', 'Gilbert', 'Strathcona', 'Western Hill', 'Hamilton Beach C', 'Norseman Heights', 'Stockyards District', 'Kedron', 'East Hespeler', 'Blair Road', 'Spring Valley', 'Bramalea', 'Lundy Village', 'Waterford', 'Townsend', 'New Hamburg', 'Buckhorn', 'Saint Thomas', 'Saint Marys', 'Douglas', 'Winchester Springs', 'Pontypool', 'Cottam', 'Ripley', 'Elmvale', 'Hampton Heights', 'Severn Bridge', 'Essa', 'C.D. Farquharson', 'Agincourt North', 'Leslie Park', 'Vernon', 'Whitefish', 'Iroquois', 'Merrickville', 'Maynooth', 'Dovercourt Park', 'St. Lawrence', 'Bewdley', 'Desboro', 'Havelock', 'Mount Forest', 'Courtright', 'Douro', 'Eramosa', 'Aberfoyle', 'Dorset', 'Aurora', 'Port Stanley', 'Grimsby', 'Kinde', 'Cachet', 'Chatham-Kent', 'The Blue Mountains', 'Tillsonburg', 'Dungannon', 'Fergus', 'Old Brooklyn', 'Kapuskasing', 'Mildmay', 'Morrisburg', 'Creemore', 'La Salette', 'New Tecumseth', 'Brookside', 'Roches Point', 'Sparta', 'St. Davids', 'Gormley', 'Merrickville-Wolford', 'North Augusta', 'Copper Cliff', 'French River', 'Noëlville', 'Cannington', 'Hagersville', 'Chapleau', 'Lyn', 'Maxville', 'Clarington', 'West Nipissing', 'Lyndhurst', 'Marmora', 'Crestline', 'Caistor Centre', 'Enterprise', 'Brodheadsville', 'Bombay', 'Winston Park', 'Tobermory', 'Hensall', 'Atwood', 'Centennial Park', 'Clairville', 'Financial District', 'Yorkdale', 'Port Lands', 'Old Mill', 'Bloorcourt Village', 'Teddington Park', 'Parma Court', 'High Park-Swansea', 'Caribou Park', 'Centre Island', 'Colchester', 'Mississippi Mills', 'White Lake', 'Pakenham', 'Burnstown', 'Foymount', 'Washago', 'Cedar Valley', 'Hillsdale', 'South Lancaster', 'Caledonia - Fairbank', 'Rockford', 'Wiarton', 'Gads Hill', 'Elgin', 'Kemble', 'Highland Grove', 'Golden Lake', \"Lang's Farm\", 'Moonbeam', 'Matheson', 'Val Gagné', 'Matachewan', 'Prudential / St. Botolph', 'Bay Cloverhill', 'Holland Marsh', 'Kagawong', 'Cardiff', \"Horning's Mills\", 'Coe Hill', 'Englehart', 'McArthurs Mills', 'Earlton', 'Wasaga Beach', 'Inglewood', 'Pelee Island', 'Saint Osyth', 'Mar', 'Valley Creek', 'Braeside', 'Red Lake', 'Las Vegas', 'Plainfield', 'Canfield', 'Locust Hill', 'Morningside Heights', 'Springfield', 'Burford', 'Codrington', 'Clinton', 'Carrying Place', 'Industrial Sector B and Keith', 'Bridlewood - Emerald Meadows', 'Gershome', 'Thorner', 'Appleby']\n",
            "1120\n"
          ]
        }
      ]
    },
    {
      "cell_type": "markdown",
      "source": [
        "# Normalization"
      ],
      "metadata": {
        "id": "YorqP-cKxxfu"
      }
    },
    {
      "cell_type": "markdown",
      "source": [
        "## Loan Prediction"
      ],
      "metadata": {
        "id": "8vkQe_ne3LQV"
      }
    },
    {
      "cell_type": "code",
      "source": [
        "\"\"\"\n",
        "Gender: ['Female' 'Male']\n",
        "Married: ['No' 'Yes']\n",
        "Dependents: ['0' '1' '2' '3+']\n",
        "Education: ['Graduate' 'Not Graduate']\n",
        "Self_Employed: ['No' 'Yes']\n",
        "ApplicantIncome: Continuous\n",
        "CoapplicantIncome: Continuous\n",
        "LoanAmount: Continuous (MULTIPLY THIS DATA BY 3 SO IT CAN BE TREATED AS MORTGAGE)\n",
        "Loan_Amount_Term: [ 36.  60.  84. 120. 180. 240. 300. 360. 480.]\n",
        "Credit_History: [0. 1.]\n",
        "Property_Area: ['Rural' 'Semiurban' 'Urban']\n",
        "Loan_Status: ['N' 'Y']\n",
        "\"\"\"\n",
        "pd_test_loan_prediction = pd_raw_loan_prediction[\"test\"].copy()\n",
        "pd_train_loan_prediction = pd_raw_loan_prediction[\"train\"].copy()\n",
        "\n",
        "pd_loan_prediction = {\n",
        "    \"test\": pd_test_loan_prediction,\n",
        "    \"train\": pd_train_loan_prediction\n",
        "}\n",
        "\n",
        "for key, df in pd_loan_prediction.items():\n",
        "  isLabel = True if key==\"train\" else False\n",
        "  # Remove all blank entries\n",
        "  print(\"_____________________________________________________________________________________________\")\n",
        "  print(\"\\nInitial %s Total: %d\"%(key.title(), df.shape[0]))\n",
        "\n",
        "  pd_loan_prediction[key] = (\n",
        "      df.assign(\n",
        "        gender_isNull = df[\"Gender\"].isnull(),\n",
        "        married_isNull = df[\"Married\"].isnull(),\n",
        "        dependent_isNull = df[\"Dependents\"].isnull(),\n",
        "        education_isNull = df[\"Education\"].isnull(),\n",
        "        self_employed_isNull = df[\"Self_Employed\"].isnull(),\n",
        "        ApplicantIncome_isNull = df[\"ApplicantIncome\"].isnull(),\n",
        "        CoapplicantIncome_isNull = df[\"CoapplicantIncome\"].isnull(),\n",
        "        LoanAmount_isNull = df[\"LoanAmount\"].isnull(),\n",
        "        Loan_Amount_Term_isNull = df[\"Loan_Amount_Term\"].isnull(),\n",
        "        Credit_History_isNull = df[\"Credit_History\"].isnull(),\n",
        "        Property_Area_isNull = df[\"Property_Area\"].isnull()\n",
        "      )\n",
        "  \n",
        "      .query(\"gender_isNull == False\")\n",
        "      .query(\"married_isNull == False\")\n",
        "      .query(\"dependent_isNull == False\")\n",
        "      .query(\"education_isNull == False\")\n",
        "      .query(\"self_employed_isNull == False\")\n",
        "      .query(\"ApplicantIncome_isNull == False\")\n",
        "      .query(\"CoapplicantIncome_isNull == False\")\n",
        "      .query(\"LoanAmount_isNull == False\")\n",
        "      .query(\"Loan_Amount_Term_isNull == False\")\n",
        "      .query(\"Credit_History_isNull == False\")\n",
        "      .query(\"Property_Area_isNull == False\")\n",
        "\n",
        "      .drop([\"Loan_ID\", \"gender_isNull\", \"married_isNull\", \"dependent_isNull\", \"education_isNull\", \n",
        "            \"self_employed_isNull\", \"ApplicantIncome_isNull\", \"CoapplicantIncome_isNull\", \n",
        "            \"LoanAmount_isNull\", \"Loan_Amount_Term_isNull\", \"Credit_History_isNull\", \n",
        "            \"Property_Area_isNull\"], axis = \"columns\")\n",
        "  )\n",
        "  pd_loan_prediction[key].reset_index(inplace=True, drop=True)\n",
        "\n",
        "  print(\"Final %s Total: %d\"%(key.title(), pd_loan_prediction[key].shape[0]))\n",
        "  # print(df.shape[0])\n",
        "\n",
        "  print(\"\\n\\nIndexing the Features\")\n",
        "  gender_value = np.unique(pd_loan_prediction[key].loc[:, \"Gender\"]).tolist()\n",
        "  married_value = np.unique(pd_loan_prediction[key].loc[:, \"Married\"]).tolist()\n",
        "  dependents_value = np.unique(pd_loan_prediction[key].loc[:, \"Dependents\"]).tolist()\n",
        "  education_value = np.unique(pd_loan_prediction[key].loc[:, \"Education\"]).tolist()\n",
        "  self_employed_value = np.unique(pd_loan_prediction[key].loc[:, \"Self_Employed\"]).tolist()\n",
        "  loanAmountTerm_value = np.unique(pd_loan_prediction[key].loc[:, \"Loan_Amount_Term\"]).tolist()\n",
        "  creditHistory_value = np.unique(pd_loan_prediction[key].loc[:, \"Credit_History\"]).tolist()\n",
        "  propertyArea_value = np.unique(pd_loan_prediction[key].loc[:, \"Property_Area\"]).tolist()\n",
        "  if (isLabel): loanStatus_value = np.unique(pd_loan_prediction[key].loc[:, \"Loan_Status\"]).tolist()\n",
        "\n",
        "  N = pd_loan_prediction[key].shape[0]\n",
        "  gender_index = [None]*N\n",
        "  married_index = [None]*N\n",
        "  dependents_index = [None]*N\n",
        "  education_index = [None]*N\n",
        "  self_employed_index = [None]*N\n",
        "  loanAmountTerm_index = [None]*N\n",
        "  creditHistory_index = [None]*N\n",
        "  propertyArea_index = [None]*N\n",
        "  if (isLabel): loanStatus_index = [None]*N\n",
        "\n",
        "  for i in range(N):\n",
        "    gender_index[i] = gender_value.index(pd_loan_prediction[key].loc[i, \"Gender\"])\n",
        "    married_index[i] = married_value.index(pd_loan_prediction[key].loc[i, \"Married\"])\n",
        "    dependents_index[i] = dependents_value.index(pd_loan_prediction[key].loc[i, \"Dependents\"])\n",
        "    education_index[i] = education_value.index(pd_loan_prediction[key].loc[i, \"Education\"])\n",
        "    self_employed_index[i] = self_employed_value.index(pd_loan_prediction[key].loc[i, \"Self_Employed\"])\n",
        "    loanAmountTerm_index[i] = loanAmountTerm_value.index(pd_loan_prediction[key].loc[i, \"Loan_Amount_Term\"])\n",
        "    creditHistory_index[i] = creditHistory_value.index(pd_loan_prediction[key].loc[i, \"Credit_History\"])\n",
        "    propertyArea_index[i] = propertyArea_value.index(pd_loan_prediction[key].loc[i, \"Property_Area\"])\n",
        "    if (isLabel): loanStatus_index[i] = loanStatus_value.index(pd_loan_prediction[key].loc[i, \"Loan_Status\"])\n",
        "\n",
        "  pd_loan_prediction[key] = (\n",
        "      pd_loan_prediction[key]\n",
        "      .assign(\n",
        "          Gender = gender_index,\n",
        "          Married = married_index,\n",
        "          Dependents = dependents_index,\n",
        "          Education = education_index,\n",
        "          Self_Employed = self_employed_index,\n",
        "          LoanAmount = pd_loan_prediction[key].loc[:, \"LoanAmount\"]*3e3,\n",
        "          Loan_Amount_Term = loanAmountTerm_index,\n",
        "          Credit_History = creditHistory_index,\n",
        "          Property_Area = propertyArea_index\n",
        "      )\n",
        "  )\n",
        "  if isLabel:\n",
        "        pd_loan_prediction[key] = pd_loan_prediction[key].assign(Loan_Status = loanStatus_index)\n",
        "  print(\"Final Data for %s\"%key.title())\n",
        "  print(pd_loan_prediction[key].head(10))\n",
        "  print(\"\\n\")\n",
        "  print(\"_____________________________________________________________________________________________\")\n",
        "\n"
      ],
      "metadata": {
        "id": "IWrwf5Akx0Nm",
        "colab": {
          "base_uri": "https://localhost:8080/"
        },
        "outputId": "3129c866-1194-4342-cc9e-ffbba3ee45db"
      },
      "execution_count": 4,
      "outputs": [
        {
          "output_type": "stream",
          "name": "stdout",
          "text": [
            "_____________________________________________________________________________________________\n",
            "\n",
            "Initial Test Total: 367\n",
            "Final Test Total: 289\n",
            "\n",
            "\n",
            "Indexing the Features\n",
            "Final Data for Test\n",
            "   Gender  Married  Dependents  Education  Self_Employed  ApplicantIncome  \\\n",
            "0       1        1           0          0              0             5720   \n",
            "1       1        1           1          0              0             3076   \n",
            "2       1        1           2          0              0             5000   \n",
            "3       1        0           0          1              0             3276   \n",
            "4       1        1           0          1              1             2165   \n",
            "5       0        0           1          1              0             2226   \n",
            "6       1        1           2          1              0             3881   \n",
            "7       1        0           0          1              0             2400   \n",
            "8       1        0           0          1              0             3091   \n",
            "9       0        0           0          0              0             4666   \n",
            "\n",
            "   CoapplicantIncome  LoanAmount  Loan_Amount_Term  Credit_History  \\\n",
            "0                  0    330000.0                 9               1   \n",
            "1               1500    378000.0                 9               1   \n",
            "2               1800    624000.0                 9               1   \n",
            "3                  0    234000.0                 9               1   \n",
            "4               3422    456000.0                 9               1   \n",
            "5                  0    177000.0                 9               1   \n",
            "6                  0    441000.0                 9               0   \n",
            "7               2400    369000.0                 9               1   \n",
            "8                  0    270000.0                 9               1   \n",
            "9                  0    372000.0                 9               1   \n",
            "\n",
            "   Property_Area  \n",
            "0              2  \n",
            "1              2  \n",
            "2              2  \n",
            "3              2  \n",
            "4              2  \n",
            "5              1  \n",
            "6              0  \n",
            "7              1  \n",
            "8              2  \n",
            "9              1  \n",
            "\n",
            "\n",
            "_____________________________________________________________________________________________\n",
            "_____________________________________________________________________________________________\n",
            "\n",
            "Initial Train Total: 614\n",
            "Final Train Total: 480\n",
            "\n",
            "\n",
            "Indexing the Features\n",
            "Final Data for Train\n",
            "   Gender  Married  Dependents  Education  Self_Employed  ApplicantIncome  \\\n",
            "0       1        1           1          0              0             4583   \n",
            "1       1        1           0          0              1             3000   \n",
            "2       1        1           0          1              0             2583   \n",
            "3       1        0           0          0              0             6000   \n",
            "4       1        1           2          0              1             5417   \n",
            "5       1        1           0          1              0             2333   \n",
            "6       1        1           3          0              0             3036   \n",
            "7       1        1           2          0              0             4006   \n",
            "8       1        1           1          0              0            12841   \n",
            "9       1        1           2          0              0             3200   \n",
            "\n",
            "   CoapplicantIncome  LoanAmount  Loan_Amount_Term  Credit_History  \\\n",
            "0             1508.0    384000.0                 7               1   \n",
            "1                0.0    198000.0                 7               1   \n",
            "2             2358.0    360000.0                 7               1   \n",
            "3                0.0    423000.0                 7               1   \n",
            "4             4196.0    801000.0                 7               1   \n",
            "5             1516.0    285000.0                 7               1   \n",
            "6             2504.0    474000.0                 7               0   \n",
            "7             1526.0    504000.0                 7               1   \n",
            "8            10968.0   1047000.0                 7               1   \n",
            "9              700.0    210000.0                 7               1   \n",
            "\n",
            "   Property_Area  Loan_Status  \n",
            "0              0            0  \n",
            "1              2            1  \n",
            "2              2            1  \n",
            "3              2            1  \n",
            "4              2            1  \n",
            "5              2            1  \n",
            "6              1            0  \n",
            "7              2            1  \n",
            "8              1            0  \n",
            "9              2            1  \n",
            "\n",
            "\n",
            "_____________________________________________________________________________________________\n"
          ]
        }
      ]
    },
    {
      "cell_type": "markdown",
      "source": [
        "## House Price Prediction"
      ],
      "metadata": {
        "id": "EFLYmV_q3RGE"
      }
    },
    {
      "cell_type": "code",
      "source": [
        "\"\"\"\n",
        "S.No: Unnecessary\n",
        "Address: Unnecessary\n",
        "Area Name: 0, 1, 2, ... , 1120\n",
        "Price: continuous LABEL\n",
        "Lat: continuous\n",
        "Long: continuous\n",
        "\"\"\"\n",
        "# Based on data above, we're only including house prices with prices more than $100k\n",
        "print(\"Initial Total Data: %d\"%pd_raw_house_price.shape[0])\n",
        "# pd_house_price = pd_raw_house_price.assign(\n",
        "#     inPriceRange = lambda x: x['Price ($)']>=1e5,\n",
        "#     Latitude = lambda x: x['lat'],\n",
        "#     Longitude = lambda x: x['lng']\n",
        "# )\n",
        "\n",
        "pd_house_price = (\n",
        "    pd_raw_house_price\n",
        "    .assign(\n",
        "      inPriceRange = lambda x: x['Price ($)']>=1e5,\n",
        "      Latitude = lambda x: x['lat'],\n",
        "      Longitude = lambda x: x['lng']\n",
        "    )\n",
        "\n",
        "    .query(\"inPriceRange == True\")\n",
        "    # .query(\"[Price ($)] >=100000\")\n",
        "    .drop([\"Address\", \"lat\", \"lng\", \"inPriceRange\", \"Unnamed: 0\"], axis=\"columns\")\n",
        ")\n",
        "pd_house_price.reset_index(inplace=True, drop=True)\n",
        "print(\"Final Total Data: %d\"%pd_house_price.shape[0])\n",
        "\n",
        "AreaNameIndex = [None]*pd_house_price.shape[0]\n",
        "for i in range(pd_house_price.shape[0]):\n",
        "  AreaNameIndex[i] = AreaNameList.index(pd_house_price.loc[i, \"AreaName\"])\n",
        "pd_house_price = pd_house_price.assign(AreaName = AreaNameIndex)\n",
        "\n",
        "\"\"\"\n",
        "2,678 data are <= $100,000\n",
        "5,794 data are <= $200,000 (100k - 200k) --> 0\n",
        "9,879 data are <= $300,000 (200k - 300k) --> 1\n",
        "13,975 data are <= $400,000 (300k - 400k) --> 2\n",
        "16,882 data are <= $500,000 (400k - 500k) --> 3\n",
        "18,908 data are <= $600,000 (500k - 600k) --> 4\n",
        "20,398 data are <= $700,000 (600k - 700k) --> 5\n",
        "21,473 data are <= $800,000 (700k - 800k) --> 6\n",
        "22,201 data are <= $900,000 (800k - 900k) --> 7\n",
        "22,736 data are <= $1,000,000 (900k - 1m) --> 8\n",
        "24,493 data are <= $2,000,000 (1m - 2m) --> 9\n",
        "24,965 data are <= $3,000,000 (2m - 3m) --> 10\n",
        "25,147 data are <= $4,000,000 (3m - 4m) --> 11\n",
        "25,227 data are <= $5,000,000 (4m - 5m) --> 12\n",
        "25,330 data are <= $10,000,000 (5m - 10m) --> 13\n",
        "25,348 data are <= $20,000,000 (10m - 20m) --> 14\n",
        "25,350 data are <= $30,000,000 (20m - 30m) --> 15\n",
        "25,351 data are <= $40,000,000 (30m - 40m) --> 16\n",
        "\"\"\"\n",
        "\n",
        "# Arranging price into brackets to help in discrete classification\n",
        "price_range_list = [2e5, 3e5, 4e5, 5e5, 6e5, 7e5, 8e5, 9e5, 1e6, 2e6, 3e6, 4e6, 5e6, 1e7, 2e7, 3e7, 4e7]\n",
        "# print(price_range_list)\n",
        "\n",
        "N = pd_house_price.shape[0]\n",
        "price_range_bracket = [None]*N\n",
        "\n",
        "for i in range(N):\n",
        "  temp_price = pd_house_price.loc[i, \"Price ($)\"]\n",
        "  for j in range(len(price_range_list)):\n",
        "    if not(temp_price>price_range_list[j]):\n",
        "      price_range_bracket[i] = j\n",
        "      break;\n",
        "\n",
        "pd_house_price = (\n",
        "    pd_house_price\n",
        "    .assign(Price_Range = price_range_bracket)\n",
        "    .drop(\"Price ($)\", axis=1)\n",
        ")\n",
        "pd_house_price"
      ],
      "metadata": {
        "id": "SNqeF62_2f0f",
        "colab": {
          "base_uri": "https://localhost:8080/",
          "height": 509
        },
        "outputId": "c71bbfb5-afd1-4eaa-d74c-63064f7a7431"
      },
      "execution_count": 6,
      "outputs": [
        {
          "output_type": "stream",
          "name": "stdout",
          "text": [
            "Initial Total Data: 25351\n",
            "Final Total Data: 22686\n"
          ]
        },
        {
          "output_type": "execute_result",
          "data": {
            "text/plain": [
              "       AreaName   Latitude  Longitude  Price_Range\n",
              "0             0  43.679882 -79.544266            8\n",
              "1             1  43.250000 -79.904396            2\n",
              "2             2  43.251690 -79.919357            3\n",
              "3             3  43.227161 -79.767403            1\n",
              "4             4  43.651478 -79.368118            2\n",
              "...         ...        ...        ...          ...\n",
              "22681       719  45.353519 -75.807793            0\n",
              "22682       138  45.441273 -75.532745            5\n",
              "22683       326  45.238155 -75.602249            7\n",
              "22684       245  45.453838 -75.650040            1\n",
              "22685       295  43.220070 -79.689835            9\n",
              "\n",
              "[22686 rows x 4 columns]"
            ],
            "text/html": [
              "\n",
              "  <div id=\"df-6a20b385-14df-4138-963e-c666dac8bfce\">\n",
              "    <div class=\"colab-df-container\">\n",
              "      <div>\n",
              "<style scoped>\n",
              "    .dataframe tbody tr th:only-of-type {\n",
              "        vertical-align: middle;\n",
              "    }\n",
              "\n",
              "    .dataframe tbody tr th {\n",
              "        vertical-align: top;\n",
              "    }\n",
              "\n",
              "    .dataframe thead th {\n",
              "        text-align: right;\n",
              "    }\n",
              "</style>\n",
              "<table border=\"1\" class=\"dataframe\">\n",
              "  <thead>\n",
              "    <tr style=\"text-align: right;\">\n",
              "      <th></th>\n",
              "      <th>AreaName</th>\n",
              "      <th>Latitude</th>\n",
              "      <th>Longitude</th>\n",
              "      <th>Price_Range</th>\n",
              "    </tr>\n",
              "  </thead>\n",
              "  <tbody>\n",
              "    <tr>\n",
              "      <th>0</th>\n",
              "      <td>0</td>\n",
              "      <td>43.679882</td>\n",
              "      <td>-79.544266</td>\n",
              "      <td>8</td>\n",
              "    </tr>\n",
              "    <tr>\n",
              "      <th>1</th>\n",
              "      <td>1</td>\n",
              "      <td>43.250000</td>\n",
              "      <td>-79.904396</td>\n",
              "      <td>2</td>\n",
              "    </tr>\n",
              "    <tr>\n",
              "      <th>2</th>\n",
              "      <td>2</td>\n",
              "      <td>43.251690</td>\n",
              "      <td>-79.919357</td>\n",
              "      <td>3</td>\n",
              "    </tr>\n",
              "    <tr>\n",
              "      <th>3</th>\n",
              "      <td>3</td>\n",
              "      <td>43.227161</td>\n",
              "      <td>-79.767403</td>\n",
              "      <td>1</td>\n",
              "    </tr>\n",
              "    <tr>\n",
              "      <th>4</th>\n",
              "      <td>4</td>\n",
              "      <td>43.651478</td>\n",
              "      <td>-79.368118</td>\n",
              "      <td>2</td>\n",
              "    </tr>\n",
              "    <tr>\n",
              "      <th>...</th>\n",
              "      <td>...</td>\n",
              "      <td>...</td>\n",
              "      <td>...</td>\n",
              "      <td>...</td>\n",
              "    </tr>\n",
              "    <tr>\n",
              "      <th>22681</th>\n",
              "      <td>719</td>\n",
              "      <td>45.353519</td>\n",
              "      <td>-75.807793</td>\n",
              "      <td>0</td>\n",
              "    </tr>\n",
              "    <tr>\n",
              "      <th>22682</th>\n",
              "      <td>138</td>\n",
              "      <td>45.441273</td>\n",
              "      <td>-75.532745</td>\n",
              "      <td>5</td>\n",
              "    </tr>\n",
              "    <tr>\n",
              "      <th>22683</th>\n",
              "      <td>326</td>\n",
              "      <td>45.238155</td>\n",
              "      <td>-75.602249</td>\n",
              "      <td>7</td>\n",
              "    </tr>\n",
              "    <tr>\n",
              "      <th>22684</th>\n",
              "      <td>245</td>\n",
              "      <td>45.453838</td>\n",
              "      <td>-75.650040</td>\n",
              "      <td>1</td>\n",
              "    </tr>\n",
              "    <tr>\n",
              "      <th>22685</th>\n",
              "      <td>295</td>\n",
              "      <td>43.220070</td>\n",
              "      <td>-79.689835</td>\n",
              "      <td>9</td>\n",
              "    </tr>\n",
              "  </tbody>\n",
              "</table>\n",
              "<p>22686 rows × 4 columns</p>\n",
              "</div>\n",
              "      <button class=\"colab-df-convert\" onclick=\"convertToInteractive('df-6a20b385-14df-4138-963e-c666dac8bfce')\"\n",
              "              title=\"Convert this dataframe to an interactive table.\"\n",
              "              style=\"display:none;\">\n",
              "        \n",
              "  <svg xmlns=\"http://www.w3.org/2000/svg\" height=\"24px\"viewBox=\"0 0 24 24\"\n",
              "       width=\"24px\">\n",
              "    <path d=\"M0 0h24v24H0V0z\" fill=\"none\"/>\n",
              "    <path d=\"M18.56 5.44l.94 2.06.94-2.06 2.06-.94-2.06-.94-.94-2.06-.94 2.06-2.06.94zm-11 1L8.5 8.5l.94-2.06 2.06-.94-2.06-.94L8.5 2.5l-.94 2.06-2.06.94zm10 10l.94 2.06.94-2.06 2.06-.94-2.06-.94-.94-2.06-.94 2.06-2.06.94z\"/><path d=\"M17.41 7.96l-1.37-1.37c-.4-.4-.92-.59-1.43-.59-.52 0-1.04.2-1.43.59L10.3 9.45l-7.72 7.72c-.78.78-.78 2.05 0 2.83L4 21.41c.39.39.9.59 1.41.59.51 0 1.02-.2 1.41-.59l7.78-7.78 2.81-2.81c.8-.78.8-2.07 0-2.86zM5.41 20L4 18.59l7.72-7.72 1.47 1.35L5.41 20z\"/>\n",
              "  </svg>\n",
              "      </button>\n",
              "      \n",
              "  <style>\n",
              "    .colab-df-container {\n",
              "      display:flex;\n",
              "      flex-wrap:wrap;\n",
              "      gap: 12px;\n",
              "    }\n",
              "\n",
              "    .colab-df-convert {\n",
              "      background-color: #E8F0FE;\n",
              "      border: none;\n",
              "      border-radius: 50%;\n",
              "      cursor: pointer;\n",
              "      display: none;\n",
              "      fill: #1967D2;\n",
              "      height: 32px;\n",
              "      padding: 0 0 0 0;\n",
              "      width: 32px;\n",
              "    }\n",
              "\n",
              "    .colab-df-convert:hover {\n",
              "      background-color: #E2EBFA;\n",
              "      box-shadow: 0px 1px 2px rgba(60, 64, 67, 0.3), 0px 1px 3px 1px rgba(60, 64, 67, 0.15);\n",
              "      fill: #174EA6;\n",
              "    }\n",
              "\n",
              "    [theme=dark] .colab-df-convert {\n",
              "      background-color: #3B4455;\n",
              "      fill: #D2E3FC;\n",
              "    }\n",
              "\n",
              "    [theme=dark] .colab-df-convert:hover {\n",
              "      background-color: #434B5C;\n",
              "      box-shadow: 0px 1px 3px 1px rgba(0, 0, 0, 0.15);\n",
              "      filter: drop-shadow(0px 1px 2px rgba(0, 0, 0, 0.3));\n",
              "      fill: #FFFFFF;\n",
              "    }\n",
              "  </style>\n",
              "\n",
              "      <script>\n",
              "        const buttonEl =\n",
              "          document.querySelector('#df-6a20b385-14df-4138-963e-c666dac8bfce button.colab-df-convert');\n",
              "        buttonEl.style.display =\n",
              "          google.colab.kernel.accessAllowed ? 'block' : 'none';\n",
              "\n",
              "        async function convertToInteractive(key) {\n",
              "          const element = document.querySelector('#df-6a20b385-14df-4138-963e-c666dac8bfce');\n",
              "          const dataTable =\n",
              "            await google.colab.kernel.invokeFunction('convertToInteractive',\n",
              "                                                     [key], {});\n",
              "          if (!dataTable) return;\n",
              "\n",
              "          const docLinkHtml = 'Like what you see? Visit the ' +\n",
              "            '<a target=\"_blank\" href=https://colab.research.google.com/notebooks/data_table.ipynb>data table notebook</a>'\n",
              "            + ' to learn more about interactive tables.';\n",
              "          element.innerHTML = '';\n",
              "          dataTable['output_type'] = 'display_data';\n",
              "          await google.colab.output.renderOutput(dataTable, element);\n",
              "          const docLink = document.createElement('div');\n",
              "          docLink.innerHTML = docLinkHtml;\n",
              "          element.appendChild(docLink);\n",
              "        }\n",
              "      </script>\n",
              "    </div>\n",
              "  </div>\n",
              "  "
            ]
          },
          "metadata": {},
          "execution_count": 6
        }
      ]
    },
    {
      "cell_type": "markdown",
      "source": [
        "# Prediction"
      ],
      "metadata": {
        "id": "kBiZjy7WtaQG"
      }
    },
    {
      "cell_type": "markdown",
      "source": [
        "## Parameter Settings"
      ],
      "metadata": {
        "id": "_E2WiDiTteru"
      }
    },
    {
      "cell_type": "code",
      "source": [
        "print(\"Vary these perimenters to test the model\")\n",
        "Gender = 'Male'\n",
        "Married = 'Yes'\n",
        "Dependents = '2'\n",
        "Education = 'Graduate'\n",
        "Self_Employed = 'Yes'\n",
        "ApplicantIncome = 200\n",
        "CoapplicantIncome = 100\n",
        "downPayment = 0.2 # 20% down payment\n",
        "Loan_Amount_Term = 360\n",
        "Credit_History = 1\n",
        "Property_Area = 'Urban'\n",
        "AreaName = 4 #(chose between 0 - 1120)\n",
        "Lat = 45.589\n",
        "Long = 79.4325\n",
        "\n",
        "print(\"\\nFinancial Background:\")\n",
        "print(\"Gender: %s \\tMarried: %s \\tDependents: %s \\tEducation: %s \\tSelf Employed: %s \\nApplicant Income: %d \\tCo-Applicant Income: %d \\nDown Payment: %.2f \\tLoan Amount Term: %d \\tCredit History: %d\"%(\n",
        "    Gender, Married, Dependents, Education, Self_Employed, ApplicantIncome, CoapplicantIncome, downPayment, Loan_Amount_Term, Credit_History))\n",
        "print(\"\\nProperty Background:\")\n",
        "print(\"Property Area: %s \\t Area Name: %s \\tLatitude: %.3f \\tLongitude: %.3f\"%(Property_Area, AreaNameList[AreaName], Lat, Long))"
      ],
      "metadata": {
        "colab": {
          "base_uri": "https://localhost:8080/"
        },
        "id": "absp1qsytvMr",
        "outputId": "79641db8-e4ef-4e94-c7b4-b380efc71579"
      },
      "execution_count": 7,
      "outputs": [
        {
          "output_type": "stream",
          "name": "stdout",
          "text": [
            "Vary these perimenters to test the model\n",
            "\n",
            "Financial Background:\n",
            "Gender: Male \tMarried: Yes \tDependents: 2 \tEducation: Graduate \tSelf Employed: Yes \n",
            "Applicant Income: 200 \tCo-Applicant Income: 100 \n",
            "Down Payment: 0.20 \tLoan Amount Term: 360 \tCredit History: 1\n",
            "\n",
            "Property Background:\n",
            "Property Area: Urban \t Area Name: Downtown \tLatitude: 45.589 \tLongitude: 79.433\n"
          ]
        }
      ]
    },
    {
      "cell_type": "markdown",
      "source": [
        "## Housing Prediction"
      ],
      "metadata": {
        "id": "rFleGvoMximL"
      }
    },
    {
      "cell_type": "code",
      "source": [
        "# house_price_model = MLP(3, 17, bias=True)\n",
        "x = pd_house_price.loc[:, ['AreaName', 'Latitude', 'Longitude']]\n",
        "y = pd_house_price.loc[:, \"Price_Range\"]\n",
        "\n",
        "# pass it through the model\n",
        "house_price_model = mlp.MLPClassifier(hidden_layer_sizes=(64, 32), max_iter=1000).fit(x,y)\n",
        "\n",
        "xtest = {\n",
        "    \"AreaName\": [AreaName],\n",
        "    \"Latitude\": [Lat],\n",
        "    \"Longitude\": [Long]\n",
        "}\n",
        "xtest = pd.DataFrame(xtest)\n",
        "\n",
        "yh = house_price_model.predict(xtest)\n",
        "yh_prob = house_price_model.predict_proba(xtest)\n",
        "\n",
        "# convert discrete label into a continuous data\n",
        "for i in range(yh.shape[0]):\n",
        "  index = yh[i]\n",
        "  if (index==0): \n",
        "    house_price = 1e5+(-1e5+price_range_list[index])*(yh_prob[i, index]/np.sum((yh_prob[i, :index+2])))\n",
        "    print(\"Price Range: ${:0,.0f} – ${:0,.0f} --> ${:0,.2f}\".format(1e5, price_range_list[index], house_price))\n",
        "  else: \n",
        "    house_price = price_range_list[index-1]+(-price_range_list[index-1]+price_range_list[index])*(yh_prob[i, index]/np.sum((yh_prob[i, index-1:index+1])))\n",
        "    print(\"Price Range: {:0,.0f} – {:0,.0f} --> ${:0,.2f}\".format(price_range_list[index-1], price_range_list[index], house_price))\n",
        "# print(yh)"
      ],
      "metadata": {
        "colab": {
          "base_uri": "https://localhost:8080/"
        },
        "id": "yGvx1KZrxhU9",
        "outputId": "d1da3e0e-7527-46a4-b0bd-d428693bc2e1"
      },
      "execution_count": 8,
      "outputs": [
        {
          "output_type": "stream",
          "name": "stdout",
          "text": [
            "Price Range: 400,000 – 500,000 --> $487,363.11\n"
          ]
        }
      ]
    },
    {
      "cell_type": "markdown",
      "source": [
        "## Loan Prediction"
      ],
      "metadata": {
        "id": "UxXZJ9aag0de"
      }
    },
    {
      "cell_type": "code",
      "source": [
        "print(\"House Price: ${:0,.2f}\".format(house_price))\n",
        "print(\"Down Payment: ${:0,.2f}\".format(house_price*downPayment))\n",
        "print(\"Mortgage Needed: ${:0,.2f}\".format(house_price*(1-downPayment)))\n",
        "\n",
        "mortgage = house_price*(1-downPayment)\n",
        "\n",
        "x = pd_loan_prediction[\"train\"].iloc[:, :-1]\n",
        "y = pd_loan_prediction[\"train\"].iloc[:, -1]\n",
        "# print(pd_loan_prediction[\"train\"].iloc[:, :-1])\n",
        "loan_prediction_model = mlp.MLPClassifier(hidden_layer_sizes=(64, 32), max_iter=1000).fit(x,y)\n",
        "xtest = {\n",
        "    \"Gender\": [gender_value.index(Gender)],\n",
        "    \"Married\": [married_value.index(Married)],\n",
        "    \"Dependents\": [dependents_value.index(Dependents)],\n",
        "    \"Education\": [education_value.index(Education)],\n",
        "    \"Self_Employed\": [self_employed_value.index(Self_Employed)],\n",
        "    \"ApplicantIncome\": [ApplicantIncome],\n",
        "    \"CoapplicantIncome\": [CoapplicantIncome],\n",
        "    \"LoanAmount\": [mortgage],\n",
        "    \"Loan_Amount_Term\": [loanAmountTerm_value.index(Loan_Amount_Term)],\n",
        "    \"Credit_History\": [creditHistory_value.index(Credit_History)],\n",
        "    \"Property_Area\": [propertyArea_value.index(Property_Area)]\n",
        "}\n",
        "xtest = pd.DataFrame(xtest)\n",
        "\n",
        "yh = loan_prediction_model.predict(xtest)\n",
        "\n",
        "print(\"\\nLoan Approval: %s\"%loanStatus_value[yh[0]])"
      ],
      "metadata": {
        "colab": {
          "base_uri": "https://localhost:8080/"
        },
        "id": "M7QrrTd7g21h",
        "outputId": "b2991507-dc0e-4dca-bf3f-833528e4bf29"
      },
      "execution_count": 9,
      "outputs": [
        {
          "output_type": "stream",
          "name": "stdout",
          "text": [
            "House Price: $487,363.11\n",
            "Down Payment: $97,472.62\n",
            "Mortgage Needed: $389,890.49\n",
            "\n",
            "Loan Approval: Y\n"
          ]
        }
      ]
    }
  ]
}